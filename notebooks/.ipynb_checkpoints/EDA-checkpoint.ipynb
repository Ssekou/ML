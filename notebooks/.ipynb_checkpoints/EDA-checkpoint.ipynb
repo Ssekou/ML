{
 "cells": [
  {
   "cell_type": "code",
   "execution_count": 1,
   "id": "62aba475",
   "metadata": {},
   "outputs": [],
   "source": [
    "import pandas as pd"
   ]
  },
  {
   "cell_type": "code",
   "execution_count": 3,
   "id": "0a0b0d3a",
   "metadata": {},
   "outputs": [],
   "source": [
    "df7 = pd.read_csv('../batchs2/restaurant_1_week_007.csv')"
   ]
  },
  {
   "cell_type": "code",
   "execution_count": 7,
   "id": "97e9ef47",
   "metadata": {},
   "outputs": [
    {
     "data": {
      "text/html": [
       "<div>\n",
       "<style scoped>\n",
       "    .dataframe tbody tr th:only-of-type {\n",
       "        vertical-align: middle;\n",
       "    }\n",
       "\n",
       "    .dataframe tbody tr th {\n",
       "        vertical-align: top;\n",
       "    }\n",
       "\n",
       "    .dataframe thead th {\n",
       "        text-align: right;\n",
       "    }\n",
       "</style>\n",
       "<table border=\"1\" class=\"dataframe\">\n",
       "  <thead>\n",
       "    <tr style=\"text-align: right;\">\n",
       "      <th></th>\n",
       "      <th>Order Number</th>\n",
       "      <th>Order Date</th>\n",
       "      <th>Item Name</th>\n",
       "      <th>Quantity</th>\n",
       "      <th>Product Price</th>\n",
       "      <th>Total products</th>\n",
       "    </tr>\n",
       "  </thead>\n",
       "  <tbody>\n",
       "    <tr>\n",
       "      <th>0</th>\n",
       "      <td>1397</td>\n",
       "      <td>2015-02-10 14:38:00</td>\n",
       "      <td>Spicy Papadum</td>\n",
       "      <td>1</td>\n",
       "      <td>0.80</td>\n",
       "      <td>5</td>\n",
       "    </tr>\n",
       "    <tr>\n",
       "      <th>1</th>\n",
       "      <td>1403</td>\n",
       "      <td>2015-02-10 17:29:00</td>\n",
       "      <td>Paratha</td>\n",
       "      <td>1</td>\n",
       "      <td>2.95</td>\n",
       "      <td>9</td>\n",
       "    </tr>\n",
       "    <tr>\n",
       "      <th>2</th>\n",
       "      <td>1403</td>\n",
       "      <td>2015-02-10 17:29:00</td>\n",
       "      <td>Coke 1.5 ltr</td>\n",
       "      <td>1</td>\n",
       "      <td>2.95</td>\n",
       "      <td>9</td>\n",
       "    </tr>\n",
       "    <tr>\n",
       "      <th>3</th>\n",
       "      <td>1403</td>\n",
       "      <td>2015-02-10 17:29:00</td>\n",
       "      <td>Lemon Rice</td>\n",
       "      <td>1</td>\n",
       "      <td>3.95</td>\n",
       "      <td>9</td>\n",
       "    </tr>\n",
       "    <tr>\n",
       "      <th>4</th>\n",
       "      <td>1402</td>\n",
       "      <td>2015-02-10 16:39:00</td>\n",
       "      <td>Onion Bhaji</td>\n",
       "      <td>1</td>\n",
       "      <td>3.95</td>\n",
       "      <td>6</td>\n",
       "    </tr>\n",
       "  </tbody>\n",
       "</table>\n",
       "</div>"
      ],
      "text/plain": [
       "   Order Number           Order Date      Item Name  Quantity  Product Price  \\\n",
       "0          1397  2015-02-10 14:38:00  Spicy Papadum         1           0.80   \n",
       "1          1403  2015-02-10 17:29:00        Paratha         1           2.95   \n",
       "2          1403  2015-02-10 17:29:00   Coke 1.5 ltr         1           2.95   \n",
       "3          1403  2015-02-10 17:29:00     Lemon Rice         1           3.95   \n",
       "4          1402  2015-02-10 16:39:00    Onion Bhaji         1           3.95   \n",
       "\n",
       "   Total products  \n",
       "0               5  \n",
       "1               9  \n",
       "2               9  \n",
       "3               9  \n",
       "4               6  "
      ]
     },
     "execution_count": 7,
     "metadata": {},
     "output_type": "execute_result"
    }
   ],
   "source": [
    "df7.head()"
   ]
  },
  {
   "cell_type": "code",
   "execution_count": 8,
   "id": "9ab5d174",
   "metadata": {},
   "outputs": [
    {
     "data": {
      "text/html": [
       "<div>\n",
       "<style scoped>\n",
       "    .dataframe tbody tr th:only-of-type {\n",
       "        vertical-align: middle;\n",
       "    }\n",
       "\n",
       "    .dataframe tbody tr th {\n",
       "        vertical-align: top;\n",
       "    }\n",
       "\n",
       "    .dataframe thead th {\n",
       "        text-align: right;\n",
       "    }\n",
       "</style>\n",
       "<table border=\"1\" class=\"dataframe\">\n",
       "  <thead>\n",
       "    <tr style=\"text-align: right;\">\n",
       "      <th></th>\n",
       "      <th>Order Number</th>\n",
       "      <th>Quantity</th>\n",
       "      <th>Product Price</th>\n",
       "      <th>Total products</th>\n",
       "    </tr>\n",
       "  </thead>\n",
       "  <tbody>\n",
       "    <tr>\n",
       "      <th>count</th>\n",
       "      <td>19.000000</td>\n",
       "      <td>19.000000</td>\n",
       "      <td>19.000000</td>\n",
       "      <td>19.000000</td>\n",
       "    </tr>\n",
       "    <tr>\n",
       "      <th>mean</th>\n",
       "      <td>1398.736842</td>\n",
       "      <td>1.052632</td>\n",
       "      <td>5.994737</td>\n",
       "      <td>6.368421</td>\n",
       "    </tr>\n",
       "    <tr>\n",
       "      <th>std</th>\n",
       "      <td>5.300337</td>\n",
       "      <td>0.229416</td>\n",
       "      <td>4.072158</td>\n",
       "      <td>2.265944</td>\n",
       "    </tr>\n",
       "    <tr>\n",
       "      <th>min</th>\n",
       "      <td>1389.000000</td>\n",
       "      <td>1.000000</td>\n",
       "      <td>0.800000</td>\n",
       "      <td>2.000000</td>\n",
       "    </tr>\n",
       "    <tr>\n",
       "      <th>25%</th>\n",
       "      <td>1397.000000</td>\n",
       "      <td>1.000000</td>\n",
       "      <td>3.950000</td>\n",
       "      <td>5.000000</td>\n",
       "    </tr>\n",
       "    <tr>\n",
       "      <th>50%</th>\n",
       "      <td>1402.000000</td>\n",
       "      <td>1.000000</td>\n",
       "      <td>4.950000</td>\n",
       "      <td>6.000000</td>\n",
       "    </tr>\n",
       "    <tr>\n",
       "      <th>75%</th>\n",
       "      <td>1403.000000</td>\n",
       "      <td>1.000000</td>\n",
       "      <td>5.950000</td>\n",
       "      <td>9.000000</td>\n",
       "    </tr>\n",
       "    <tr>\n",
       "      <th>max</th>\n",
       "      <td>1403.000000</td>\n",
       "      <td>2.000000</td>\n",
       "      <td>17.950000</td>\n",
       "      <td>9.000000</td>\n",
       "    </tr>\n",
       "  </tbody>\n",
       "</table>\n",
       "</div>"
      ],
      "text/plain": [
       "       Order Number   Quantity  Product Price  Total products\n",
       "count     19.000000  19.000000      19.000000       19.000000\n",
       "mean    1398.736842   1.052632       5.994737        6.368421\n",
       "std        5.300337   0.229416       4.072158        2.265944\n",
       "min     1389.000000   1.000000       0.800000        2.000000\n",
       "25%     1397.000000   1.000000       3.950000        5.000000\n",
       "50%     1402.000000   1.000000       4.950000        6.000000\n",
       "75%     1403.000000   1.000000       5.950000        9.000000\n",
       "max     1403.000000   2.000000      17.950000        9.000000"
      ]
     },
     "execution_count": 8,
     "metadata": {},
     "output_type": "execute_result"
    }
   ],
   "source": [
    "df7.describe()"
   ]
  },
  {
   "cell_type": "code",
   "execution_count": 13,
   "id": "6f7f30b0",
   "metadata": {},
   "outputs": [
    {
     "data": {
      "text/plain": [
       "(19, 6)"
      ]
     },
     "execution_count": 13,
     "metadata": {},
     "output_type": "execute_result"
    }
   ],
   "source": [
    "df7.shape"
   ]
  },
  {
   "cell_type": "code",
   "execution_count": 15,
   "id": "ca1482f2",
   "metadata": {},
   "outputs": [
    {
     "data": {
      "text/plain": [
       "'2015-02-10 17:29:00'"
      ]
     },
     "execution_count": 15,
     "metadata": {},
     "output_type": "execute_result"
    }
   ],
   "source": [
    "df7['Order Date'].max()"
   ]
  },
  {
   "cell_type": "code",
   "execution_count": 16,
   "id": "831cfd6c",
   "metadata": {},
   "outputs": [
    {
     "data": {
      "text/plain": [
       "'2015-02-10 10:29:00'"
      ]
     },
     "execution_count": 16,
     "metadata": {},
     "output_type": "execute_result"
    }
   ],
   "source": [
    "df7['Order Date'].min()"
   ]
  },
  {
   "cell_type": "code",
   "execution_count": null,
   "id": "38c450b2",
   "metadata": {},
   "outputs": [],
   "source": []
  }
 ],
 "metadata": {
  "kernelspec": {
   "display_name": "Python 3 (ipykernel)",
   "language": "python",
   "name": "python3"
  },
  "language_info": {
   "codemirror_mode": {
    "name": "ipython",
    "version": 3
   },
   "file_extension": ".py",
   "mimetype": "text/x-python",
   "name": "python",
   "nbconvert_exporter": "python",
   "pygments_lexer": "ipython3",
   "version": "3.9.12"
  }
 },
 "nbformat": 4,
 "nbformat_minor": 5
}
